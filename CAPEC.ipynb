{
 "cells": [
  {
   "cell_type": "code",
   "execution_count": 1,
   "metadata": {},
   "outputs": [
    {
     "name": "stderr",
     "output_type": "stream",
     "text": [
      "[nltk_data] Downloading package stopwords to\n",
      "[nltk_data]     C:\\Users\\Régis\\AppData\\Roaming\\nltk_data...\n",
      "[nltk_data]   Package stopwords is already up-to-date!\n",
      "[nltk_data] Downloading package punkt to\n",
      "[nltk_data]     C:\\Users\\Régis\\AppData\\Roaming\\nltk_data...\n",
      "[nltk_data]   Package punkt is already up-to-date!\n",
      "[nltk_data] Downloading package wordnet to\n",
      "[nltk_data]     C:\\Users\\Régis\\AppData\\Roaming\\nltk_data...\n",
      "[nltk_data]   Package wordnet is already up-to-date!\n",
      "[nltk_data] Downloading package punkt_tab to\n",
      "[nltk_data]     C:\\Users\\Régis\\AppData\\Roaming\\nltk_data...\n",
      "[nltk_data]   Package punkt_tab is already up-to-date!\n"
     ]
    }
   ],
   "source": [
    "import pandas as pd\n",
    "from bs4 import BeautifulSoup\n",
    "import requests\n",
    "import nltk\n",
    "from nltk.corpus import stopwords, wordnet\n",
    "from nltk.tokenize import word_tokenize\n",
    "from nltk.stem import WordNetLemmatizer\n",
    "from transformers import AutoTokenizer, AutoModelForQuestionAnswering\n",
    "import torch\n",
    "from transformers import AutoTokenizer, AutoModelForQuestionAnswering\n",
    "from sklearn.decomposition import NMF\n",
    "from sklearn.feature_extraction.text import TfidfVectorizer\n",
    "import re\n",
    "\n",
    "nltk.download('stopwords')\n",
    "nltk.download('punkt')\n",
    "nltk.download('wordnet')\n",
    "nltk.download('punkt_tab')\n",
    "\n",
    "# Initialiser lemmatizer\n",
    "lemmatizer = WordNetLemmatizer()"
   ]
  },
  {
   "cell_type": "code",
   "execution_count": 2,
   "metadata": {},
   "outputs": [],
   "source": [
    "def lemmatize_word(word):\n",
    "    return lemmatizer.lemmatize(word, pos=wordnet.VERB)  # Lemmatisation des verbes\n",
    "\n",
    "stop_words = set(stopwords.words(\"english\"))\n",
    "def remove_stopwords(text):\n",
    "    words = word_tokenize(text.lower())  # Tokenisation du texte\n",
    "    filtered_words = [word for word in words if word not in stop_words]  # Filtrer les stopwords\n",
    "    return \" \".join(filtered_words)"
   ]
  },
  {
   "cell_type": "code",
   "execution_count": 3,
   "metadata": {},
   "outputs": [],
   "source": [
    "TabAttacks = pd.DataFrame(columns=['id', 'nom', 'description'])"
   ]
  },
  {
   "cell_type": "code",
   "execution_count": 4,
   "metadata": {},
   "outputs": [],
   "source": [
    "url = \"https://capec.mitre.org/data/slices/1000.html\"\n",
    "response = requests.get(url)\n",
    "response.encoding = 'utf-8'\n",
    "\n",
    "soup = BeautifulSoup(response.text, \"html.parser\")"
   ]
  },
  {
   "cell_type": "code",
   "execution_count": 5,
   "metadata": {},
   "outputs": [],
   "source": [
    "listeH2= soup.find_all(\"h2\")"
   ]
  },
  {
   "cell_type": "code",
   "execution_count": 6,
   "metadata": {},
   "outputs": [],
   "source": [
    "listeID = []\n",
    "for i in range(len(listeH2)):\n",
    "    res = listeH2[i].text.split(\":\")[0].split('-')\n",
    "    if len(res) > 1:\n",
    "        listeID.append(res[1])"
   ]
  },
  {
   "cell_type": "code",
   "execution_count": 7,
   "metadata": {},
   "outputs": [],
   "source": [
    "listeID = []\n",
    "listeNom = []\n",
    "for i in range(len(listeH2)):\n",
    "    res = listeH2[i].text.split(\":\")[0].split('-')\n",
    "    res2 = listeH2[i].text.split(\":\")[1]\n",
    "    if len(res) > 1:\n",
    "        listeID.append(res[1])\n",
    "        listeNom.append(res2[1:])"
   ]
  },
  {
   "cell_type": "code",
   "execution_count": 8,
   "metadata": {},
   "outputs": [],
   "source": [
    "listeDescription = soup.find_all(\"div\", {\"id\": \"Description\"})"
   ]
  },
  {
   "cell_type": "code",
   "execution_count": 9,
   "metadata": {},
   "outputs": [],
   "source": [
    "listeDescriptionText = []\n",
    "OriginDescription = []\n",
    "for i in range(len(listeDescription)):\n",
    "    text = listeDescription[i].find(\"div\", {\"class\": \"indent\"}).text\n",
    "    OriginDescription.append(text)\n",
    "    cleaned_text = remove_stopwords(text)\n",
    "    listeDescriptionText.append(cleaned_text)"
   ]
  },
  {
   "cell_type": "code",
   "execution_count": 10,
   "metadata": {},
   "outputs": [
    {
     "data": {
      "text/plain": [
       "'An adversary modifies file contents by adding data to files for several reasons. Many different attacks could “follow” this pattern resulting in numerous outcomes. Adding data to a file could also result in a Denial of Service condition for devices with limited storage capacity. '"
      ]
     },
     "execution_count": 10,
     "metadata": {},
     "output_type": "execute_result"
    }
   ],
   "source": [
    "OriginDescription[24]"
   ]
  },
  {
   "cell_type": "code",
   "execution_count": 11,
   "metadata": {},
   "outputs": [],
   "source": [
    "capec_dict_by_id = {\n",
    "    1: \"Improperly specified ACL\",\n",
    "    10: \"Untrustable environment variables\",\n",
    "    100: \"Improper bounds checking on buffer operations\",\n",
    "    101: \"Untested code input\",\n",
    "    102: \"Unencrypted communication channel\",\n",
    "    105: \"Manipulable HTTP Request messages\",\n",
    "    107: \"Unprotected HTTP header\",\n",
    "    108: \"Unvalidated command input\",\n",
    "    128: \"Numeric data handling\",\n",
    "    131: \"System resources\",\n",
    "    163: \"email account of some trusted entity\",\n",
    "    221: \"Data serialization entity replacement\",\n",
    "    224: \"Fingerprinting\",\n",
    "    243: \"HTML attributes\",\n",
    "    268: \"Log injection\",\n",
    "    272: \"Communication protocol vulnerabilities\",\n",
    "    300: \"Network port states\",\n",
    "    307: \"RPC service enumeration\",\n",
    "    331: \"UDP error message analysis\",\n",
    "    332: \"ICMP error message behaviors\",\n",
    "    36: \"Exposed system interfaces\",\n",
    "    37: \"Embedded sensitive data\",\n",
    "    406: \"Discarded sensitive information\",\n",
    "    429: \"Eye movement analysis\",\n",
    "    448: \"DLL injection\",\n",
    "    458: \"Flash memory compromise\",\n",
    "    462: \"Cross-domain request timing\",\n",
    "    464: \"Persistent cookie storage\",\n",
    "    473: \"Message forgery\",\n",
    "    52: \"Null byte injection\",\n",
    "    531: \"Hardware substitution attack\",\n",
    "    533: \"Software update\",\n",
    "    535: \"Hardware components\",\n",
    "    541: \"Application Fingerprinting\",\n",
    "    542: \"Targeted Malware\",\n",
    "    543: \"Web site\",\n",
    "    549: \"Target system\",\n",
    "    550: \"Service operating software\",\n",
    "    560: \"Weak exposed credentials\",\n",
    "    569: \"Input capture mechanisms\",\n",
    "    57: \"SSL termination vulnerability\",\n",
    "    571: \"Log delivery failure\",\n",
    "    581: \"Security tool enumeration\",\n",
    "    584: \"BGP route advertisement suppression\",\n",
    "    591: \"Reflected Cross-Site Scripting (XSS) vulnerability\",\n",
    "    599: \"Satellite dish signal disruption\",\n",
    "    620: \"Insecure encryption downgrade\",\n",
    "    642: \"Insufficient file system permissions\",\n",
    "    694: \"System information leakage\",\n",
    "    698: \"Malicious extension installation\",\n",
    "    75: \"Unprotected configuration files\",\n",
    "    94: \"Insecure communication channel\"\n",
    "}"
   ]
  },
  {
   "cell_type": "code",
   "execution_count": 12,
   "metadata": {},
   "outputs": [],
   "source": [
    "\n",
    "rule1 = [lemmatize_word(w) for w in [\n",
    "    \"spoofing\", \"phishing\", \"overlay\", \"squatting\", \"monitoring\", \"bypass\",\n",
    "    \"abuse\", \"disabling\", \"seizure\", \"jamming\", \"blocking\", \"misuse\", \n",
    "    \"exploitation\", \"spoofing of\", \"exploiting incorrectly\", \"collect data from\",\n",
    "    \"pretexting via\", \"bypassing of\", \"manipulate\", \"leveraging\", \"manipulating\", \n",
    "    \"disabling\", \"accessing\", \"intercepting\", \"modifying\", \"counterfeit\", \"fake the\", \n",
    "    \"exploit\", \"using\", \"leverage\", \"bypassing\", \"poison\", \"infected\", \"contaminate\", \n",
    "    \"detect\", \"capture\", \"sniffing\"\n",
    "]]\n",
    "\n",
    "rule2 = [lemmatize_word(w) for w in [\n",
    "    \"flood\", \"tampering\", \"overflow\", \"poisoning\", \"alteration\", \"analysis\",\n",
    "    \"impersonation\", \"manipulation\", \"expansion\", \"linking\", \"blowup\",\n",
    "    \"fragmentation\", \"altered\", \"modification of\"\n",
    "]]\n",
    "\n",
    "rule3 = [lemmatize_word(w) for w in [\n",
    "    \"hijacking\", \"splitting\", \"smuggling\", \"injection\", \"pollution\", \"inclusion\",\n",
    "    \"insertion\", \"scanning\", \"discovery\", \"footprinting\", \"probe\"\n",
    "]]\n",
    "\n",
    "def extract_va(text):\n",
    "    words = word_tokenize(text.lower())  \n",
    "    words = [lemmatize_word(w) for w in words]  \n",
    "\n",
    "    for j, word in enumerate(words):\n",
    "        if word in rule3 and j > 0:\n",
    "            return f\"Untested {words[j - 1]} Input\"\n",
    "        if word in rule2 and j >= 3:\n",
    "            return \" \".join(words[j - 3:j])\n",
    "        if word in rule1 and j + 3 < len(words):\n",
    "            return \" \".join(words[j + 1:j + 4])\n",
    "    return \"\"\n",
    "\n",
    "va_results = [extract_va(desc) for desc in listeDescriptionText]\n",
    "\n",
    "df_va = pd.DataFrame({\n",
    "    \"ID\": listeID,\n",
    "    \"VA\": va_results\n",
    "})\n"
   ]
  },
  {
   "cell_type": "code",
   "execution_count": 13,
   "metadata": {},
   "outputs": [
    {
     "name": "stdout",
     "output_type": "stream",
     "text": [
      "Untrustable environment variables\n"
     ]
    }
   ],
   "source": [
    "print(capec_dict_by_id[10])"
   ]
  },
  {
   "cell_type": "code",
   "execution_count": 14,
   "metadata": {},
   "outputs": [],
   "source": [
    "test = 2"
   ]
  },
  {
   "cell_type": "code",
   "execution_count": 15,
   "metadata": {},
   "outputs": [
    {
     "data": {
      "text/plain": [
       "229    security functionality system\n",
       "Name: VA, dtype: object"
      ]
     },
     "execution_count": 15,
     "metadata": {},
     "output_type": "execute_result"
    }
   ],
   "source": [
    "df_va.loc[df_va['ID'] == str(test), 'VA']"
   ]
  },
  {
   "cell_type": "code",
   "execution_count": 16,
   "metadata": {},
   "outputs": [],
   "source": [
    "cpt = 0\n",
    "for i in range(len(df_va)):\n",
    "    id = df_va.loc[i,'ID']\n",
    "    id = int(id)\n",
    "    if id in capec_dict_by_id.keys():\n",
    "        df_va.loc[df_va['ID'] == str(id), 'VA'] = capec_dict_by_id[id]"
   ]
  },
  {
   "cell_type": "code",
   "execution_count": 17,
   "metadata": {},
   "outputs": [
    {
     "data": {
      "text/plain": [
       "\"adversary able disguise one action another therefore trick user initiating one type action intend initiate different action . example , user might led believe clicking button submit query , fact downloads software . adversaries may perform attack social means , simply convincing victim perform action relying user 's natural inclination , technical means , clickjacking attack user sees one interface actually interacting second , invisible , interface .\""
      ]
     },
     "execution_count": 17,
     "metadata": {},
     "output_type": "execute_result"
    }
   ],
   "source": [
    "listeDescriptionText[4]"
   ]
  },
  {
   "cell_type": "code",
   "execution_count": 18,
   "metadata": {},
   "outputs": [
    {
     "data": {
      "text/html": [
       "<div>\n",
       "<style scoped>\n",
       "    .dataframe tbody tr th:only-of-type {\n",
       "        vertical-align: middle;\n",
       "    }\n",
       "\n",
       "    .dataframe tbody tr th {\n",
       "        vertical-align: top;\n",
       "    }\n",
       "\n",
       "    .dataframe thead th {\n",
       "        text-align: right;\n",
       "    }\n",
       "</style>\n",
       "<table border=\"1\" class=\"dataframe\">\n",
       "  <thead>\n",
       "    <tr style=\"text-align: right;\">\n",
       "      <th></th>\n",
       "      <th>ID</th>\n",
       "      <th>VA</th>\n",
       "    </tr>\n",
       "  </thead>\n",
       "  <tbody>\n",
       "    <tr>\n",
       "      <th>4</th>\n",
       "      <td>173</td>\n",
       "      <td></td>\n",
       "    </tr>\n",
       "  </tbody>\n",
       "</table>\n",
       "</div>"
      ],
      "text/plain": [
       "    ID VA\n",
       "4  173   "
      ]
     },
     "execution_count": 18,
     "metadata": {},
     "output_type": "execute_result"
    }
   ],
   "source": [
    "df_va[df_va['ID'] == \"173\"]"
   ]
  },
  {
   "cell_type": "code",
   "execution_count": 19,
   "metadata": {},
   "outputs": [],
   "source": [
    "vides = df_va[df_va['VA'] == \"\"]"
   ]
  },
  {
   "cell_type": "code",
   "execution_count": 20,
   "metadata": {},
   "outputs": [
    {
     "data": {
      "text/plain": [
       "Index([  4,   6,  29,  39,  60,  61,  62,  66,  84,  91,  96, 114, 126, 145,\n",
       "       162, 177, 191, 214, 239, 272, 293, 306, 311, 322, 328, 329, 337, 344,\n",
       "       360, 366, 392, 425, 442, 443, 452, 464, 465, 485, 513, 518],\n",
       "      dtype='int64')"
      ]
     },
     "execution_count": 20,
     "metadata": {},
     "output_type": "execute_result"
    }
   ],
   "source": [
    "vides.index"
   ]
  },
  {
   "cell_type": "code",
   "execution_count": 21,
   "metadata": {},
   "outputs": [],
   "source": [
    "for i in range(len(vides)):\n",
    "        listeDescriptionText[vides.index[i]]"
   ]
  },
  {
   "cell_type": "code",
   "execution_count": 22,
   "metadata": {},
   "outputs": [
    {
     "name": "stderr",
     "output_type": "stream",
     "text": [
      "Some weights of the model checkpoint at bert-large-uncased-whole-word-masking-finetuned-squad were not used when initializing BertForQuestionAnswering: ['bert.pooler.dense.bias', 'bert.pooler.dense.weight']\n",
      "- This IS expected if you are initializing BertForQuestionAnswering from the checkpoint of a model trained on another task or with another architecture (e.g. initializing a BertForSequenceClassification model from a BertForPreTraining model).\n",
      "- This IS NOT expected if you are initializing BertForQuestionAnswering from the checkpoint of a model that you expect to be exactly identical (initializing a BertForSequenceClassification model from a BertForSequenceClassification model).\n"
     ]
    }
   ],
   "source": [
    "model_name = \"bert-large-uncased-whole-word-masking-finetuned-squad\"\n",
    "tokenizer = AutoTokenizer.from_pretrained(model_name)\n",
    "model = AutoModelForQuestionAnswering.from_pretrained(model_name)"
   ]
  },
  {
   "cell_type": "code",
   "execution_count": 23,
   "metadata": {},
   "outputs": [
    {
     "name": "stderr",
     "output_type": "stream",
     "text": [
      "c:\\Users\\Régis\\AppData\\Local\\Programs\\Python\\Python39\\lib\\site-packages\\sklearn\\decomposition\\_nmf.py:133: RuntimeWarning: invalid value encountered in sqrt\n",
      "  return np.sqrt(res * 2)\n",
      "c:\\Users\\Régis\\AppData\\Local\\Programs\\Python\\Python39\\lib\\site-packages\\sklearn\\decomposition\\_nmf.py:1742: ConvergenceWarning: Maximum number of iterations 200 reached. Increase it to improve convergence.\n",
      "  warnings.warn(\n",
      "c:\\Users\\Régis\\AppData\\Local\\Programs\\Python\\Python39\\lib\\site-packages\\sklearn\\decomposition\\_nmf.py:133: RuntimeWarning: invalid value encountered in sqrt\n",
      "  return np.sqrt(res * 2)\n",
      "c:\\Users\\Régis\\AppData\\Local\\Programs\\Python\\Python39\\lib\\site-packages\\sklearn\\decomposition\\_nmf.py:133: RuntimeWarning: invalid value encountered in sqrt\n",
      "  return np.sqrt(res * 2)\n",
      "c:\\Users\\Régis\\AppData\\Local\\Programs\\Python\\Python39\\lib\\site-packages\\sklearn\\decomposition\\_nmf.py:1742: ConvergenceWarning: Maximum number of iterations 200 reached. Increase it to improve convergence.\n",
      "  warnings.warn(\n",
      "c:\\Users\\Régis\\AppData\\Local\\Programs\\Python\\Python39\\lib\\site-packages\\sklearn\\decomposition\\_nmf.py:133: RuntimeWarning: invalid value encountered in sqrt\n",
      "  return np.sqrt(res * 2)\n",
      "c:\\Users\\Régis\\AppData\\Local\\Programs\\Python\\Python39\\lib\\site-packages\\sklearn\\decomposition\\_nmf.py:1742: ConvergenceWarning: Maximum number of iterations 200 reached. Increase it to improve convergence.\n",
      "  warnings.warn(\n",
      "c:\\Users\\Régis\\AppData\\Local\\Programs\\Python\\Python39\\lib\\site-packages\\sklearn\\decomposition\\_nmf.py:1742: ConvergenceWarning: Maximum number of iterations 200 reached. Increase it to improve convergence.\n",
      "  warnings.warn(\n",
      "c:\\Users\\Régis\\AppData\\Local\\Programs\\Python\\Python39\\lib\\site-packages\\sklearn\\decomposition\\_nmf.py:1742: ConvergenceWarning: Maximum number of iterations 200 reached. Increase it to improve convergence.\n",
      "  warnings.warn(\n",
      "c:\\Users\\Régis\\AppData\\Local\\Programs\\Python\\Python39\\lib\\site-packages\\sklearn\\decomposition\\_nmf.py:1742: ConvergenceWarning: Maximum number of iterations 200 reached. Increase it to improve convergence.\n",
      "  warnings.warn(\n",
      "c:\\Users\\Régis\\AppData\\Local\\Programs\\Python\\Python39\\lib\\site-packages\\sklearn\\decomposition\\_nmf.py:1742: ConvergenceWarning: Maximum number of iterations 200 reached. Increase it to improve convergence.\n",
      "  warnings.warn(\n",
      "c:\\Users\\Régis\\AppData\\Local\\Programs\\Python\\Python39\\lib\\site-packages\\sklearn\\decomposition\\_nmf.py:133: RuntimeWarning: invalid value encountered in sqrt\n",
      "  return np.sqrt(res * 2)\n",
      "c:\\Users\\Régis\\AppData\\Local\\Programs\\Python\\Python39\\lib\\site-packages\\sklearn\\decomposition\\_nmf.py:1742: ConvergenceWarning: Maximum number of iterations 200 reached. Increase it to improve convergence.\n",
      "  warnings.warn(\n",
      "c:\\Users\\Régis\\AppData\\Local\\Programs\\Python\\Python39\\lib\\site-packages\\sklearn\\decomposition\\_nmf.py:133: RuntimeWarning: invalid value encountered in sqrt\n",
      "  return np.sqrt(res * 2)\n",
      "c:\\Users\\Régis\\AppData\\Local\\Programs\\Python\\Python39\\lib\\site-packages\\sklearn\\decomposition\\_nmf.py:1742: ConvergenceWarning: Maximum number of iterations 200 reached. Increase it to improve convergence.\n",
      "  warnings.warn(\n",
      "c:\\Users\\Régis\\AppData\\Local\\Programs\\Python\\Python39\\lib\\site-packages\\sklearn\\decomposition\\_nmf.py:133: RuntimeWarning: invalid value encountered in sqrt\n",
      "  return np.sqrt(res * 2)\n",
      "c:\\Users\\Régis\\AppData\\Local\\Programs\\Python\\Python39\\lib\\site-packages\\sklearn\\decomposition\\_nmf.py:1742: ConvergenceWarning: Maximum number of iterations 200 reached. Increase it to improve convergence.\n",
      "  warnings.warn(\n",
      "c:\\Users\\Régis\\AppData\\Local\\Programs\\Python\\Python39\\lib\\site-packages\\sklearn\\decomposition\\_nmf.py:133: RuntimeWarning: invalid value encountered in sqrt\n",
      "  return np.sqrt(res * 2)\n",
      "c:\\Users\\Régis\\AppData\\Local\\Programs\\Python\\Python39\\lib\\site-packages\\sklearn\\decomposition\\_nmf.py:1742: ConvergenceWarning: Maximum number of iterations 200 reached. Increase it to improve convergence.\n",
      "  warnings.warn(\n",
      "c:\\Users\\Régis\\AppData\\Local\\Programs\\Python\\Python39\\lib\\site-packages\\sklearn\\decomposition\\_nmf.py:1742: ConvergenceWarning: Maximum number of iterations 200 reached. Increase it to improve convergence.\n",
      "  warnings.warn(\n",
      "c:\\Users\\Régis\\AppData\\Local\\Programs\\Python\\Python39\\lib\\site-packages\\sklearn\\decomposition\\_nmf.py:1742: ConvergenceWarning: Maximum number of iterations 200 reached. Increase it to improve convergence.\n",
      "  warnings.warn(\n",
      "c:\\Users\\Régis\\AppData\\Local\\Programs\\Python\\Python39\\lib\\site-packages\\sklearn\\decomposition\\_nmf.py:133: RuntimeWarning: invalid value encountered in sqrt\n",
      "  return np.sqrt(res * 2)\n",
      "c:\\Users\\Régis\\AppData\\Local\\Programs\\Python\\Python39\\lib\\site-packages\\sklearn\\decomposition\\_nmf.py:1742: ConvergenceWarning: Maximum number of iterations 200 reached. Increase it to improve convergence.\n",
      "  warnings.warn(\n",
      "c:\\Users\\Régis\\AppData\\Local\\Programs\\Python\\Python39\\lib\\site-packages\\sklearn\\decomposition\\_nmf.py:133: RuntimeWarning: invalid value encountered in sqrt\n",
      "  return np.sqrt(res * 2)\n",
      "c:\\Users\\Régis\\AppData\\Local\\Programs\\Python\\Python39\\lib\\site-packages\\sklearn\\decomposition\\_nmf.py:1742: ConvergenceWarning: Maximum number of iterations 200 reached. Increase it to improve convergence.\n",
      "  warnings.warn(\n",
      "c:\\Users\\Régis\\AppData\\Local\\Programs\\Python\\Python39\\lib\\site-packages\\sklearn\\decomposition\\_nmf.py:133: RuntimeWarning: invalid value encountered in sqrt\n",
      "  return np.sqrt(res * 2)\n",
      "c:\\Users\\Régis\\AppData\\Local\\Programs\\Python\\Python39\\lib\\site-packages\\sklearn\\decomposition\\_nmf.py:1742: ConvergenceWarning: Maximum number of iterations 200 reached. Increase it to improve convergence.\n",
      "  warnings.warn(\n",
      "c:\\Users\\Régis\\AppData\\Local\\Programs\\Python\\Python39\\lib\\site-packages\\sklearn\\decomposition\\_nmf.py:133: RuntimeWarning: invalid value encountered in sqrt\n",
      "  return np.sqrt(res * 2)\n",
      "c:\\Users\\Régis\\AppData\\Local\\Programs\\Python\\Python39\\lib\\site-packages\\sklearn\\decomposition\\_nmf.py:1742: ConvergenceWarning: Maximum number of iterations 200 reached. Increase it to improve convergence.\n",
      "  warnings.warn(\n",
      "c:\\Users\\Régis\\AppData\\Local\\Programs\\Python\\Python39\\lib\\site-packages\\sklearn\\decomposition\\_nmf.py:133: RuntimeWarning: invalid value encountered in sqrt\n",
      "  return np.sqrt(res * 2)\n"
     ]
    }
   ],
   "source": [
    "# La question à poser au modèle BERT\n",
    "question = \"What is the vulnerable asset targeted by the attacker?\"\n",
    "\n",
    "res = []\n",
    "\n",
    "for i in range(len(vides)):\n",
    "    description = listeDescriptionText[vides.index[i]]\n",
    "\n",
    "    if description.strip(): \n",
    "    \n",
    "        vectorizer = TfidfVectorizer(stop_words='english', max_features=20)\n",
    "        tfidf_matrix = vectorizer.fit_transform([description])\n",
    "        feature_names = vectorizer.get_feature_names_out()\n",
    "\n",
    "        nmf_model = NMF(n_components=1, random_state=42)\n",
    "        nmf_topics = nmf_model.fit_transform(tfidf_matrix)\n",
    "        \n",
    "        topic = \" \".join([feature_names[i] for i in nmf_model.components_[0].argsort()[:-6 - 1:-1]])\n",
    "\n",
    "        inputs = tokenizer.encode_plus(question, topic, return_tensors=\"pt\")\n",
    "        outputs = model(**inputs)\n",
    "        start_index = outputs.start_logits.argmax()\n",
    "        end_index = outputs.end_logits.argmax()\n",
    "        answer = tokenizer.convert_tokens_to_string(\n",
    "            tokenizer.convert_ids_to_tokens(inputs['input_ids'][0][start_index:end_index+1])\n",
    "        )\n",
    "        \n",
    "        df_va.iloc[vides.index[i],1] = answer\n"
   ]
  },
  {
   "cell_type": "code",
   "execution_count": 24,
   "metadata": {},
   "outputs": [],
   "source": [
    "def nettoyer_texte(texte):\n",
    "    return re.sub(r\"[.,:()]\", '', texte)"
   ]
  },
  {
   "cell_type": "code",
   "execution_count": 25,
   "metadata": {},
   "outputs": [],
   "source": [
    "df_va['VA'] = df_va['VA'].apply(nettoyer_texte)"
   ]
  },
  {
   "cell_type": "code",
   "execution_count": 26,
   "metadata": {},
   "outputs": [],
   "source": [
    "df_va['Nom'] = listeNom\n",
    "df_va['Description'] = OriginDescription"
   ]
  },
  {
   "cell_type": "code",
   "execution_count": 27,
   "metadata": {},
   "outputs": [
    {
     "data": {
      "text/html": [
       "<div>\n",
       "<style scoped>\n",
       "    .dataframe tbody tr th:only-of-type {\n",
       "        vertical-align: middle;\n",
       "    }\n",
       "\n",
       "    .dataframe tbody tr th {\n",
       "        vertical-align: top;\n",
       "    }\n",
       "\n",
       "    .dataframe thead th {\n",
       "        text-align: right;\n",
       "    }\n",
       "</style>\n",
       "<table border=\"1\" class=\"dataframe\">\n",
       "  <thead>\n",
       "    <tr style=\"text-align: right;\">\n",
       "      <th></th>\n",
       "      <th>ID</th>\n",
       "      <th>VA</th>\n",
       "      <th>Nom</th>\n",
       "      <th>Description</th>\n",
       "    </tr>\n",
       "  </thead>\n",
       "  <tbody>\n",
       "    <tr>\n",
       "      <th>0</th>\n",
       "      <td>597</td>\n",
       "      <td>file system resources</td>\n",
       "      <td>Absolute Path Traversal</td>\n",
       "      <td>An adversary with access to file system resour...</td>\n",
       "    </tr>\n",
       "    <tr>\n",
       "      <th>1</th>\n",
       "      <td>1</td>\n",
       "      <td>Improperly specified ACL</td>\n",
       "      <td>Accessing Functionality Not Properly Constrain...</td>\n",
       "      <td>In applications, particularly web applications...</td>\n",
       "    </tr>\n",
       "    <tr>\n",
       "      <th>2</th>\n",
       "      <td>31</td>\n",
       "      <td>http cookies store</td>\n",
       "      <td>Accessing/Intercepting/Modifying HTTP Cookies</td>\n",
       "      <td>This attack relies on the use of HTTP Cookies ...</td>\n",
       "    </tr>\n",
       "    <tr>\n",
       "      <th>3</th>\n",
       "      <td>575</td>\n",
       "      <td>functionality mean identify</td>\n",
       "      <td>Account Footprinting</td>\n",
       "      <td>An adversary exploits functionality meant to i...</td>\n",
       "    </tr>\n",
       "    <tr>\n",
       "      <th>4</th>\n",
       "      <td>173</td>\n",
       "      <td>interface</td>\n",
       "      <td>Action Spoofing</td>\n",
       "      <td>An adversary is able to disguise one action fo...</td>\n",
       "    </tr>\n",
       "    <tr>\n",
       "      <th>...</th>\n",
       "      <td>...</td>\n",
       "      <td>...</td>\n",
       "      <td>...</td>\n",
       "      <td>...</td>\n",
       "    </tr>\n",
       "    <tr>\n",
       "      <th>554</th>\n",
       "      <td>32</td>\n",
       "      <td>value parameters without</td>\n",
       "      <td>XSS Through HTTP Query Strings</td>\n",
       "      <td>An adversary embeds malicious script code in t...</td>\n",
       "    </tr>\n",
       "    <tr>\n",
       "      <th>555</th>\n",
       "      <td>199</td>\n",
       "      <td>alternate form keywords</td>\n",
       "      <td>XSS Using Alternate Syntax</td>\n",
       "      <td>An adversary uses alternate forms of keywords ...</td>\n",
       "    </tr>\n",
       "    <tr>\n",
       "      <th>556</th>\n",
       "      <td>245</td>\n",
       "      <td>input validation use</td>\n",
       "      <td>XSS Using Doubled Characters</td>\n",
       "      <td>The adversary bypasses input validation by usi...</td>\n",
       "    </tr>\n",
       "    <tr>\n",
       "      <th>557</th>\n",
       "      <td>247</td>\n",
       "      <td>application filter input</td>\n",
       "      <td>XSS Using Invalid Characters</td>\n",
       "      <td>An adversary inserts invalid characters in ide...</td>\n",
       "    </tr>\n",
       "    <tr>\n",
       "      <th>558</th>\n",
       "      <td>209</td>\n",
       "      <td>url respond script</td>\n",
       "      <td>XSS Using MIME Type Mismatch</td>\n",
       "      <td>An adversary creates a file with scripting con...</td>\n",
       "    </tr>\n",
       "  </tbody>\n",
       "</table>\n",
       "<p>559 rows × 4 columns</p>\n",
       "</div>"
      ],
      "text/plain": [
       "      ID                           VA  \\\n",
       "0    597        file system resources   \n",
       "1      1     Improperly specified ACL   \n",
       "2     31           http cookies store   \n",
       "3    575  functionality mean identify   \n",
       "4    173                    interface   \n",
       "..   ...                          ...   \n",
       "554   32     value parameters without   \n",
       "555  199      alternate form keywords   \n",
       "556  245         input validation use   \n",
       "557  247     application filter input   \n",
       "558  209           url respond script   \n",
       "\n",
       "                                                   Nom  \\\n",
       "0                              Absolute Path Traversal   \n",
       "1    Accessing Functionality Not Properly Constrain...   \n",
       "2        Accessing/Intercepting/Modifying HTTP Cookies   \n",
       "3                                 Account Footprinting   \n",
       "4                                      Action Spoofing   \n",
       "..                                                 ...   \n",
       "554                     XSS Through HTTP Query Strings   \n",
       "555                         XSS Using Alternate Syntax   \n",
       "556                       XSS Using Doubled Characters   \n",
       "557                       XSS Using Invalid Characters   \n",
       "558                       XSS Using MIME Type Mismatch   \n",
       "\n",
       "                                           Description  \n",
       "0    An adversary with access to file system resour...  \n",
       "1    In applications, particularly web applications...  \n",
       "2    This attack relies on the use of HTTP Cookies ...  \n",
       "3    An adversary exploits functionality meant to i...  \n",
       "4    An adversary is able to disguise one action fo...  \n",
       "..                                                 ...  \n",
       "554  An adversary embeds malicious script code in t...  \n",
       "555  An adversary uses alternate forms of keywords ...  \n",
       "556  The adversary bypasses input validation by usi...  \n",
       "557  An adversary inserts invalid characters in ide...  \n",
       "558  An adversary creates a file with scripting con...  \n",
       "\n",
       "[559 rows x 4 columns]"
      ]
     },
     "execution_count": 27,
     "metadata": {},
     "output_type": "execute_result"
    }
   ],
   "source": [
    "df_va"
   ]
  },
  {
   "cell_type": "code",
   "execution_count": 28,
   "metadata": {},
   "outputs": [],
   "source": [
    "df_va.to_csv(\"Tableau.csv\", index=False)"
   ]
  }
 ],
 "metadata": {
  "kernelspec": {
   "display_name": "Python 3",
   "language": "python",
   "name": "python3"
  },
  "language_info": {
   "codemirror_mode": {
    "name": "ipython",
    "version": 3
   },
   "file_extension": ".py",
   "mimetype": "text/x-python",
   "name": "python",
   "nbconvert_exporter": "python",
   "pygments_lexer": "ipython3",
   "version": "3.9.13"
  }
 },
 "nbformat": 4,
 "nbformat_minor": 2
}
